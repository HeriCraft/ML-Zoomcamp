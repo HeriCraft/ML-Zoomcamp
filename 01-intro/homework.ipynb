{
 "cells": [
  {
   "cell_type": "code",
   "execution_count": 1,
   "id": "9fc917d5-3dd1-45aa-be06-c772a9959abd",
   "metadata": {},
   "outputs": [],
   "source": [
    "import pandas as pd"
   ]
  },
  {
   "cell_type": "markdown",
   "id": "bbd08e1b-6625-4ad8-b5e0-96ec90ac73c1",
   "metadata": {},
   "source": [
    "### Q1. Pandas version"
   ]
  },
  {
   "cell_type": "code",
   "execution_count": 2,
   "id": "7cf9a3e8-ed73-46ff-8ec2-0161a849a95d",
   "metadata": {},
   "outputs": [
    {
     "data": {
      "text/plain": [
       "'2.2.2'"
      ]
     },
     "execution_count": 2,
     "metadata": {},
     "output_type": "execute_result"
    }
   ],
   "source": [
    "pd.__version__"
   ]
  },
  {
   "cell_type": "code",
   "execution_count": 5,
   "id": "19fdbbb3-30e1-4f74-94a6-92ed378812b5",
   "metadata": {},
   "outputs": [],
   "source": [
    "laptops = pd.read_csv('./laptops.csv')"
   ]
  },
  {
   "cell_type": "markdown",
   "id": "97507363-77dd-4a8f-80e7-680297c062b4",
   "metadata": {},
   "source": [
    "### Q2. Records count"
   ]
  },
  {
   "cell_type": "code",
   "execution_count": 4,
   "id": "7dd3a27f-f3c1-4086-b093-8a37db1791fd",
   "metadata": {},
   "outputs": [
    {
     "data": {
      "text/plain": [
       "2160"
      ]
     },
     "execution_count": 4,
     "metadata": {},
     "output_type": "execute_result"
    }
   ],
   "source": [
    "len(laptops)"
   ]
  },
  {
   "cell_type": "markdown",
   "id": "d4e361a3-fba6-4d1c-8933-32b42a65b9ba",
   "metadata": {},
   "source": [
    "### Q3. Laptop brands"
   ]
  },
  {
   "cell_type": "code",
   "execution_count": 9,
   "id": "df38af87-467c-443b-b2c0-d48a5caba659",
   "metadata": {},
   "outputs": [
    {
     "data": {
      "text/plain": [
       "27"
      ]
     },
     "execution_count": 9,
     "metadata": {},
     "output_type": "execute_result"
    }
   ],
   "source": [
    "laptops.Brand.nunique()"
   ]
  },
  {
   "cell_type": "markdown",
   "id": "fd8f5048-0d75-472c-abca-1abe96a14432",
   "metadata": {},
   "source": [
    "### Q4. Missing values"
   ]
  },
  {
   "cell_type": "code",
   "execution_count": 19,
   "id": "fc840efc-3c13-4d7d-8cd6-9aca98d136ce",
   "metadata": {},
   "outputs": [
    {
     "data": {
      "text/plain": [
       "3"
      ]
     },
     "execution_count": 19,
     "metadata": {},
     "output_type": "execute_result"
    }
   ],
   "source": [
    "int((laptops.isnull().sum() > 0).sum())"
   ]
  },
  {
   "cell_type": "markdown",
   "id": "77cc3055-bdd0-4fab-b5e2-c860df459875",
   "metadata": {},
   "source": [
    "### Q5. Maximum final price"
   ]
  },
  {
   "cell_type": "code",
   "execution_count": 29,
   "id": "20d0cc85-8ade-4657-b793-f547adc09d6e",
   "metadata": {},
   "outputs": [
    {
     "data": {
      "text/plain": [
       "3936.0"
      ]
     },
     "execution_count": 29,
     "metadata": {},
     "output_type": "execute_result"
    }
   ],
   "source": [
    "float(laptops.groupby('Brand')['Final Price'].max()['Dell'])"
   ]
  },
  {
   "cell_type": "markdown",
   "id": "572b10df-f2ea-4dfe-831f-00a01b6d2845",
   "metadata": {},
   "source": [
    "### Q6. Median value of Screen"
   ]
  },
  {
   "cell_type": "code",
   "execution_count": 33,
   "id": "2867495d-5ab5-43b2-b982-a054b72e4440",
   "metadata": {},
   "outputs": [
    {
     "data": {
      "text/plain": [
       "15.6"
      ]
     },
     "execution_count": 33,
     "metadata": {},
     "output_type": "execute_result"
    }
   ],
   "source": [
    "float(laptops.Screen.median())"
   ]
  },
  {
   "cell_type": "markdown",
   "id": "6d147801-50c0-42fe-a6d0-e253081df5d4",
   "metadata": {},
   "source": [
    "### Q7. Sum of weights"
   ]
  },
  {
   "cell_type": "code",
   "execution_count": null,
   "id": "8b6a763d-b9b8-435e-b633-5cbeaea8ceea",
   "metadata": {},
   "outputs": [],
   "source": []
  }
 ],
 "metadata": {
  "kernelspec": {
   "display_name": "Python 3 (ipykernel)",
   "language": "python",
   "name": "python3"
  },
  "language_info": {
   "codemirror_mode": {
    "name": "ipython",
    "version": 3
   },
   "file_extension": ".py",
   "mimetype": "text/x-python",
   "name": "python",
   "nbconvert_exporter": "python",
   "pygments_lexer": "ipython3",
   "version": "3.11.10"
  }
 },
 "nbformat": 4,
 "nbformat_minor": 5
}
